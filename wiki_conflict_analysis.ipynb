{
 "cells": [
  {
   "cell_type": "markdown",
   "metadata": {
    "slideshow": {
     "slide_type": "slide"
    }
   },
   "source": [
    "### MY470 Computer Programming\n",
    "\n",
    "### Final Assignment, AT 2023\n",
    "\n",
    "#### \\*\\*\\* Due 12:00 noon on Monday, January 15 \\*\\*\\*"
   ]
  },
  {
   "cell_type": "markdown",
   "metadata": {
    "slideshow": {
     "slide_type": "slide"
    }
   },
   "source": [
    "---\n",
    "### Conflict on Wikipedia\n",
    "\n",
    "The final assignment asks you to use the computational thinking and programming skills you learned in the course to answer an empirical social science question. You are expected to apply the best practices and theoretical concepts we covered in the course to produce a program that not only produces the correct output but is also legible, modular, and reasonably optimized. The assignment assumes mastery of loops, conditionals, and functions, as well as awareness of issues related to computational complexity and runtime performance.\n",
    "\n",
    "In the assignment, we will study reverts on Wikipedia. A revert occurs when an editor undoes the changes made by another editor. We will first identify who reverted whom and when, then identify situations in which if $A$ reverted $B$, $B$ reverted $A$ within 24 hours, and finally, study the difference in seniority between $A$ and $B$.\n",
    "\n",
    "**You can use Copilot in VS Code** but no other generative-AI tool is allowed. You are expected to work on your own for this assignment and hence, you should not discuss or use solutions from others (whether current or past students, family members, neighbors, paid consultants, essay farm workers, volunteers on StackOverflow, etc.). \n",
    "\n",
    "**Solutions should use basic Python data types, simple modules such as `pickle`, `random`, `datetime`, and the packages `numpy`, `matplotlib`, and `seaborn`**. You are NOT allowed to use advanced data processing packages such as pandas, networkx, scikitlearn, etc.\n",
    "\n",
    "You can either use an object-oriented approach or procedural programming. Both are equally acceptable.  \n",
    "\n",
    "#### Hints\n",
    "\n",
    "Refer to the lecture and class slides from Week 11 to find out about peculiarities in the data and useful modules that you should take into consideration.\n",
    "\n",
    "Although this assignment is quite streamlined, imagine that the tasks here are part of a larger project. How would you structure your program if you may need to manipulate the data differently, add additional analyses, or modify the focus of the current analysis? \n",
    "\n",
    "Keep different data manipulations in separate functions/classes. Keep functions/classes in a separate `.py` file and then import the functions in the code cell below to run the main steps from here. \n",
    "\n",
    "You will need to consider whether you should save intermediary results on disk instead of holding them in memory or processing the data again and again. If so, save any new files in this repository (and NOT in the data repository, which is shared)."
   ]
  },
  {
   "cell_type": "markdown",
   "metadata": {
    "slideshow": {
     "slide_type": "slide"
    }
   },
   "source": [
    "### Data\n",
    "\n",
    "We will use data from the file `../data/rowiki_2006.txt` in the `data` repository on GitHub. \n",
    "To data were originally obtained from the Wikipedia XML Dumps (https://dumps.wikimedia.org/mirrors.html) and include every article edit made on Romanian Wikipedia since it began until the end of 2006. Each line in the file is an edit and includes the title of the edited article, the time when the edit was submitted, whether the edit was a revert, the version of the article, and the user who submitted the edit. To detect the article versions, a hash was calculated for the complete article text following each revision and the hashes were compared between edits. \n",
    "\n",
    "The table below describes the variables in the data:\n",
    "\n",
    "| Variable   | Explanation   \n",
    "|:-----------|:-------\n",
    "| title      | title of the edited article               \n",
    "| time       | time in the format YYYY-MM-DD HH:MM:SS when the edit was completed  \n",
    "| revert     | 1 if the edit was detected to revert to a previous article version, 0 otherwise \n",
    "| version    | an integer indicating a unique state of the article, generally increasing over time; -1 indicates the article was empty (usually due to vandalism); if the same number appears more than once, then the article was exactly in the same state at these different time points  \n",
    "| user       | the editor's username or if not logged in, the editor's IP address  \n"
   ]
  },
  {
   "cell_type": "markdown",
   "metadata": {},
   "source": [
    "### 1. Who reverted whom?\n",
    "\n",
    "Your goal is to create a network (e.g., an edge list), where an edge goes from the editor who restored an earlier version of the article (the \"reverter\") to the editor who made the revision immediately after that version (the \"reverted\"). For every edge, you should know who the reverter was, who got reverted, when the revert occurred, and what the \"seniority\" of the the reverter and the reverted were at this point in time.\n",
    "\n",
    "We will ignore the article titles for the analyses so you don't need to save these.\n",
    "\n",
    "In addition, you will need to clean up the self-reverts – we will not use them in the analyses here.\n",
    "\n",
    "We will estimate seniority $s_i$ of editor $i$ as the base-ten logarithm of the number of edits $i$ has completed by the time of the revert under question. Transforming the number of edits with the logarithm makes sense because they follow a power-law distribution (the majority of individuals have very few edits, while a handful of individuals are responsible for most of the work). This operationalization allows to express the difference in seniority between two editors as the base-ten logarithm of the ratio of number of edits since $s_i - s_j = \\log_{10} e_i - \\log_{10} e_j = \\log_{10} \\frac{e_i}{e_j}$, where $e_i$ is the number of edits of editor $i$ and $e_j$ is the number of edits of editor $j$. In essence, we assume that an editor who has 10 edits compares to one with 100 edits the same way that an editor with 1,000 edits compares to one with 10,000.\n",
    "\n",
    "**Print the first 5 data points** in your network (what these look like will depend on the data type you are using).\n",
    "\n",
    "Then **print the number of nodes and edges** in the network.\n",
    "\n",
    "#### Hints\n",
    "\n",
    "There are multiple ways to save the network data: you can use a single list, or multiple lists, or a list and dictionaries, or just dictionaries, or create your own network class. You should consider how you are going to use the data to decide on a reasonable data structure."
   ]
  },
  {
   "cell_type": "code",
   "execution_count": 1,
   "metadata": {},
   "outputs": [
    {
     "name": "stdout",
     "output_type": "stream",
     "text": [
      "[{'reverter': '193.226.6.229', 'reverted': '81.196.16.140', 'time': datetime.datetime(2003, 8, 1, 14, 28, 16), 'reverter_seniority': 0.0, 'reverted_seniority': 0.6020599913279624}, {'reverter': '141.85.0.85', 'reverted': '141.85.3.9', 'time': datetime.datetime(2003, 8, 13, 13, 28, 40), 'reverter_seniority': 0.0, 'reverted_seniority': 0.0}, {'reverter': 'Gutza', 'reverted': '193.41.250.244', 'time': datetime.datetime(2003, 8, 14, 10, 12, 46), 'reverter_seniority': 2.03342375548695, 'reverted_seniority': 0.0}, {'reverter': 'Gutza', 'reverted': '213.154.133.118', 'time': datetime.datetime(2003, 8, 19, 11, 5, 46), 'reverter_seniority': 2.0681858617461617, 'reverted_seniority': 0.47712125471966244}, {'reverter': 'Raztud', 'reverted': '80.96.202.106', 'time': datetime.datetime(2003, 8, 21, 8, 4, 29), 'reverter_seniority': 1.7634279935629373, 'reverted_seniority': 1.1760912590556813}]\n",
      "Number of nodes: 4805\n",
      "Number of edges: 7364\n"
     ]
    }
   ],
   "source": [
    "import revert_network\n",
    "\n",
    "# Obtain revert network data\n",
    "(network, nodes) = revert_network.RevertNetworkBuilder().create_network('../data/rowiki_2006.txt')\n",
    "\n",
    "# Print the first 5 data points (nodes or edges) in the network\n",
    "print(network[:5])\n",
    "\n",
    "# Print the number of nodes and edges in the network\n",
    "print(\"Number of nodes:\", len(nodes))\n",
    "print(\"Number of edges:\", len(network))"
   ]
  },
  {
   "cell_type": "markdown",
   "metadata": {},
   "source": [
    "### 2. If $A$ reverted $B$, did $B$ revert $A$?\n",
    "\n",
    "The aim is to identify the two-event sequence in which after $A$ reverts $B$, $B$ reverts $A$ back ($AB–BA$) within 24 hours. To identify these sequences, use the revert data from the previous task. We will ignore the article titles — we are agnostic as to whether the response happens in the same or in different articles. Further, it does not matter whether the response occurs immediately after the original revert or alternatively, the reverter and the reverted are involved in other reverts in-between the original revert and the response. If more than one response occurs within 24 hours, consider only the first one as part of the event sequence.\n",
    "\n",
    "When you identify an AB–BA event sequence, save information about the edges that allows you to identify them later. \n",
    "\n",
    "**Print the number of AB–BA event sequences in the data.**\n",
    "\n",
    "#### Hints\n",
    "\n",
    "If you have $AB_{t1}$, $BA_{t2}$, and $BA_{t3}$, all within 24 hours of each other, you should only count $AB_{t1}–BA_{t2}$ as an event sequence.\n",
    "\n",
    "Note that with this definition, an edge can be part of up to two AB-BA event sequence. For example, for revert $BA_{t2}$, you can have $AB_{t1}–BA_{t2}$, as well as $BA_{t2}–AB_{t3}$ (the labels $A$ and $B$ are arbitrary). "
   ]
  },
  {
   "cell_type": "code",
   "execution_count": 2,
   "metadata": {
    "collapsed": true
   },
   "outputs": [
    {
     "name": "stdout",
     "output_type": "stream",
     "text": [
      "Number of AB-BA event sequences:  316\n"
     ]
    }
   ],
   "source": [
    "import abba_event_sequence\n",
    "# Get AB-BA event sequences (reverts occur within 24 hours of each other)\n",
    "event_sequence = abba_event_sequence.get_event_sequence(network)\n",
    "\n",
    "# Print the number of AB-BA event sequences in the data\n",
    "total_length = sum(len(seq) for seq in event_sequence.values())\n",
    "print('Number of AB-BA event sequences: ', total_length)"
   ]
  },
  {
   "cell_type": "markdown",
   "metadata": {},
   "source": [
    "### 3. Are $A$ and $B$ more similar in seniority than expected?\n",
    "\n",
    "Social comparison theory states that people strive to gain accurate self-evaluations and as a result, they tend to compare themselves to those who are similar. But since focus on relative performance heightens feelings of competitiveness, rivalry is stronger among similar individuals. This leads us to expect that the editors involved in the $AB–BA$ event sequences tend to be closer in seniority than expected.\n",
    "\n",
    "To find evidence that retaliation is more likely among similar individuals, we will compare the *absolute difference* in seniority between editors involved in $AB–BA$ event sequences with the absolute difference in seniority between editors involved in any other revert (all the reverts in the data that are not part of the AB–BA sequences).\n",
    "\n",
    "First, **plot a histogram** of $|s_A - s_B|$ for reverts that are part of $AB–BA$ motifs on top of a histogram of $|s_i - s_j|$ for all other reverts. \n",
    "\n",
    "Then, **print the mean $|s_A - s_B|$ and the mean $|s_i - s_j|$**.\n"
   ]
  },
  {
   "cell_type": "code",
   "execution_count": 3,
   "metadata": {
    "collapsed": true
   },
   "outputs": [
    {
     "data": {
      "image/png": "[encoded data removed]",
      "text/plain": [
       "<Figure size 640x480 with 1 Axes>"
      ]
     },
     "metadata": {},
     "output_type": "display_data"
    },
    {
     "name": "stdout",
     "output_type": "stream",
     "text": [
      "Mean of absolute seniority difference for reverts in AB-BA sequences:  2.008857230410522\n",
      "Mean of absolute seniority difference for all other reverts:  2.500653244185263\n"
     ]
    }
   ],
   "source": [
    "import seniority_calculation\n",
    "\n",
    "# Get absolute seniority difference for reverts in AB-BA sequences and the rest\n",
    "(abs_diff_seqs, abs_diff_rest) = seniority_calculation.get_seniority_calculation(event_sequence, network)\n",
    "\n",
    "# Plot a histogram with the two distributions overlapping\n",
    "seniority_calculation.plot_seniority_calculation(abs_diff_seqs, abs_diff_rest)\n",
    "\n",
    "# Print the mean abs. seniority diff. for reverts in AB-BA sequences and the rest\n",
    "seniority_calculation.print_mean(abs_diff_seqs, abs_diff_rest)"
   ]
  },
  {
   "cell_type": "markdown",
   "metadata": {},
   "source": [
    "---\n",
    "\n",
    "### Evaluation\n",
    "\n",
    "| Aspect         | Mark     | Comment   \n",
    "|:--------------:|:--------:|:----------------------\n",
    "| Code runs      |   10/10  | Good           \n",
    "| 1, network     |   8/10   | Slight overcount on nodes, should be 4774. Slight overcount on edges, should be 7342.\n",
    "| 1, seniority   |   10/10  | Good\n",
    "| 2              |   6/10   | Undercount, should be 357.\n",
    "| 3              |   10/10  | Mistakes carry over from above. Means should be ABBA = 2023, others = 2.372. Could normalize the histograms for comparison.\n",
    "| Legibility     |   9/10   | Some overlong lines\n",
    "| Modularity     |   9/10   | revert network class needs str method\n",
    "| Optimization   |   30/30    | Excellent\n",
    "| **Total**      |**92/100**  | Excellent"
   ]
  }
 ],
 "metadata": {
  "kernelspec": {
   "display_name": "Python 3 (ipykernel)",
   "language": "python",
   "name": "python3"
  },
  "language_info": {
   "codemirror_mode": {
    "name": "ipython",
    "version": 3
   },
   "file_extension": ".py",
   "mimetype": "text/x-python",
   "name": "python",
   "nbconvert_exporter": "python",
   "pygments_lexer": "ipython3",
   "version": "3.11.4"
  }
 },
 "nbformat": 4,
 "nbformat_minor": 2
}
